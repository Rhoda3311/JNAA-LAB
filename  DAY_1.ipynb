{
 "cells": [
  {
   "cell_type": "markdown",
   "id": "9447cf1a",
   "metadata": {},
   "source": [
    "day 1"
   ]
  },
  {
   "cell_type": "markdown",
   "id": "ef88010e",
   "metadata": {},
   "source": [
    "comments and headings\n",
    "---"
   ]
  },
  {
   "cell_type": "code",
   "execution_count": 5,
   "id": "bd0bf1bf",
   "metadata": {},
   "outputs": [
    {
     "ename": "SyntaxError",
     "evalue": "invalid syntax (1531885647.py, line 2)",
     "output_type": "error",
     "traceback": [
      "\u001b[1;36m  Input \u001b[1;32mIn [5]\u001b[1;36m\u001b[0m\n\u001b[1;33m    =\u001b[0m\n\u001b[1;37m    ^\u001b[0m\n\u001b[1;31mSyntaxError\u001b[0m\u001b[1;31m:\u001b[0m invalid syntax\n"
     ]
    }
   ],
   "source": [
    "=comments and headings"
   ]
  },
  {
   "cell_type": "code",
   "execution_count": 1,
   "id": "949d8097",
   "metadata": {},
   "outputs": [
    {
     "name": "stdout",
     "output_type": "stream",
     "text": [
      "daniel\n"
     ]
    }
   ],
   "source": [
    "print('daniel')"
   ]
  },
  {
   "cell_type": "code",
   "execution_count": 2,
   "id": "6c5b073d",
   "metadata": {},
   "outputs": [
    {
     "name": "stdout",
     "output_type": "stream",
     "text": [
      "Rho\n"
     ]
    }
   ],
   "source": [
    "print('Rho')"
   ]
  },
  {
   "cell_type": "code",
   "execution_count": 3,
   "id": "94244d81",
   "metadata": {},
   "outputs": [],
   "source": [
    "#snake bites"
   ]
  },
  {
   "cell_type": "code",
   "execution_count": 4,
   "id": "0087ed42",
   "metadata": {},
   "outputs": [
    {
     "ename": "SyntaxError",
     "evalue": "invalid syntax (3992327132.py, line 1)",
     "output_type": "error",
     "traceback": [
      "\u001b[1;36m  Input \u001b[1;32mIn [4]\u001b[1;36m\u001b[0m\n\u001b[1;33m    snake bites\u001b[0m\n\u001b[1;37m          ^\u001b[0m\n\u001b[1;31mSyntaxError\u001b[0m\u001b[1;31m:\u001b[0m invalid syntax\n"
     ]
    }
   ],
   "source": [
    "snake bites"
   ]
  },
  {
   "cell_type": "code",
   "execution_count": null,
   "id": "cbd12a2e",
   "metadata": {},
   "outputs": [],
   "source": [
    "'''"
   ]
  },
  {
   "cell_type": "code",
   "execution_count": null,
   "id": "b41b118e",
   "metadata": {},
   "outputs": [],
   "source": []
  },
  {
   "cell_type": "markdown",
   "id": "8aaec091",
   "metadata": {},
   "source": [
    "# data type "
   ]
  },
  {
   "cell_type": "code",
   "execution_count": 6,
   "id": "7d399589",
   "metadata": {},
   "outputs": [
    {
     "data": {
      "text/plain": [
       "10"
      ]
     },
     "execution_count": 6,
     "metadata": {},
     "output_type": "execute_result"
    }
   ],
   "source": [
    "10"
   ]
  },
  {
   "cell_type": "code",
   "execution_count": 7,
   "id": "f08d43de",
   "metadata": {},
   "outputs": [
    {
     "data": {
      "text/plain": [
       "int"
      ]
     },
     "execution_count": 7,
     "metadata": {},
     "output_type": "execute_result"
    }
   ],
   "source": [
    "type(10)"
   ]
  },
  {
   "cell_type": "code",
   "execution_count": 8,
   "id": "92a97ed9",
   "metadata": {},
   "outputs": [
    {
     "data": {
      "text/plain": [
       "float"
      ]
     },
     "execution_count": 8,
     "metadata": {},
     "output_type": "execute_result"
    }
   ],
   "source": [
    "type(15.72)"
   ]
  },
  {
   "cell_type": "code",
   "execution_count": 10,
   "id": "1382c10b",
   "metadata": {},
   "outputs": [
    {
     "data": {
      "text/plain": [
       "str"
      ]
     },
     "execution_count": 10,
     "metadata": {},
     "output_type": "execute_result"
    }
   ],
   "source": [
    "type('joseph')"
   ]
  },
  {
   "cell_type": "code",
   "execution_count": 11,
   "id": "e13a4c52",
   "metadata": {},
   "outputs": [
    {
     "data": {
      "text/plain": [
       "(2, 3, 5, 6, 8, 9)"
      ]
     },
     "execution_count": 11,
     "metadata": {},
     "output_type": "execute_result"
    }
   ],
   "source": [
    "(2,3,5,6,8,9)"
   ]
  },
  {
   "cell_type": "code",
   "execution_count": 13,
   "id": "04789c26",
   "metadata": {},
   "outputs": [
    {
     "data": {
      "text/plain": [
       "tuple"
      ]
     },
     "execution_count": 13,
     "metadata": {},
     "output_type": "execute_result"
    }
   ],
   "source": [
    "type((2,3,5,6,8,9))"
   ]
  },
  {
   "cell_type": "code",
   "execution_count": 14,
   "id": "eefdcedf",
   "metadata": {},
   "outputs": [
    {
     "data": {
      "text/plain": [
       "type[3, 33, 33]"
      ]
     },
     "execution_count": 14,
     "metadata": {},
     "output_type": "execute_result"
    }
   ],
   "source": [
    "type[3,33,33,]"
   ]
  },
  {
   "cell_type": "code",
   "execution_count": null,
   "id": "2594f669",
   "metadata": {},
   "outputs": [],
   "source": []
  },
  {
   "cell_type": "code",
   "execution_count": 16,
   "id": "f9c9897e",
   "metadata": {},
   "outputs": [
    {
     "data": {
      "text/plain": [
       "list"
      ]
     },
     "execution_count": 16,
     "metadata": {},
     "output_type": "execute_result"
    }
   ],
   "source": [
    "type([3, 33, 33])"
   ]
  },
  {
   "cell_type": "markdown",
   "id": "52376f2b",
   "metadata": {},
   "source": [
    "variable assignment\n",
    "="
   ]
  },
  {
   "cell_type": "code",
   "execution_count": 17,
   "id": "823d5d55",
   "metadata": {},
   "outputs": [],
   "source": [
    "a=4"
   ]
  },
  {
   "cell_type": "code",
   "execution_count": 18,
   "id": "bc8bbcbe",
   "metadata": {},
   "outputs": [],
   "source": [
    "e=10"
   ]
  },
  {
   "cell_type": "code",
   "execution_count": 27,
   "id": "03e95f38",
   "metadata": {},
   "outputs": [
    {
     "name": "stdout",
     "output_type": "stream",
     "text": [
      "14\n"
     ]
    }
   ],
   "source": [
    "zz=a+e\n",
    "print(zz)"
   ]
  },
  {
   "cell_type": "code",
   "execution_count": 21,
   "id": "938eff7b",
   "metadata": {},
   "outputs": [
    {
     "data": {
      "text/plain": [
       "14"
      ]
     },
     "execution_count": 21,
     "metadata": {},
     "output_type": "execute_result"
    }
   ],
   "source": [
    "zz"
   ]
  },
  {
   "cell_type": "code",
   "execution_count": 22,
   "id": "85926008",
   "metadata": {},
   "outputs": [],
   "source": [
    "rhoda=70"
   ]
  },
  {
   "cell_type": "code",
   "execution_count": 23,
   "id": "0c2835ed",
   "metadata": {},
   "outputs": [],
   "source": [
    "joseph=80"
   ]
  },
  {
   "cell_type": "code",
   "execution_count": 24,
   "id": "b95eb629",
   "metadata": {},
   "outputs": [],
   "source": [
    "final=rhoda-joseph"
   ]
  },
  {
   "cell_type": "code",
   "execution_count": 25,
   "id": "dbdfcaa9",
   "metadata": {},
   "outputs": [
    {
     "data": {
      "text/plain": [
       "-10"
      ]
     },
     "execution_count": 25,
     "metadata": {},
     "output_type": "execute_result"
    }
   ],
   "source": [
    "final"
   ]
  },
  {
   "cell_type": "code",
   "execution_count": 26,
   "id": "8bf0c468",
   "metadata": {},
   "outputs": [
    {
     "data": {
      "text/plain": [
       "10"
      ]
     },
     "execution_count": 26,
     "metadata": {},
     "output_type": "execute_result"
    }
   ],
   "source": [
    "(10)"
   ]
  },
  {
   "cell_type": "markdown",
   "id": "1f28dd6d",
   "metadata": {},
   "source": [
    "print satement\n",
    "=\n"
   ]
  },
  {
   "cell_type": "code",
   "execution_count": 30,
   "id": "93d2d0d4",
   "metadata": {},
   "outputs": [
    {
     "name": "stdout",
     "output_type": "stream",
     "text": [
      "God is calling\n"
     ]
    }
   ],
   "source": [
    "print('God is calling')"
   ]
  },
  {
   "cell_type": "code",
   "execution_count": 32,
   "id": "9a27fcab",
   "metadata": {},
   "outputs": [
    {
     "name": "stdout",
     "output_type": "stream",
     "text": [
      "God is calling\n",
      "answer the call\n",
      "what does He says\n"
     ]
    }
   ],
   "source": [
    "print('God is calling\\nanswer the call\\nwhat does He says')"
   ]
  },
  {
   "cell_type": "code",
   "execution_count": 34,
   "id": "5a288329",
   "metadata": {},
   "outputs": [
    {
     "name": "stdout",
     "output_type": "stream",
     "text": [
      "God is calling\n",
      "yes He is\n"
     ]
    }
   ],
   "source": [
    "print('God is calling\\nyes He is')"
   ]
  },
  {
   "cell_type": "code",
   "execution_count": 35,
   "id": "dcb138b5",
   "metadata": {},
   "outputs": [
    {
     "name": "stdout",
     "output_type": "stream",
     "text": [
      "i am joseph\n",
      "a chief coder\n"
     ]
    }
   ],
   "source": [
    "print('i am joseph\\na chief coder')"
   ]
  },
  {
   "cell_type": "markdown",
   "id": "70332a70",
   "metadata": {},
   "source": [
    "sub-setting\n",
    "="
   ]
  },
  {
   "cell_type": "code",
   "execution_count": 61,
   "id": "72ef3436",
   "metadata": {},
   "outputs": [],
   "source": [
    "course = 'meteorology and climate science'"
   ]
  },
  {
   "cell_type": "code",
   "execution_count": 62,
   "id": "22f5e236",
   "metadata": {},
   "outputs": [
    {
     "data": {
      "text/plain": [
       "31"
      ]
     },
     "execution_count": 62,
     "metadata": {},
     "output_type": "execute_result"
    }
   ],
   "source": [
    "len(course)"
   ]
  },
  {
   "cell_type": "code",
   "execution_count": 43,
   "id": "93605baa",
   "metadata": {},
   "outputs": [
    {
     "data": {
      "text/plain": [
       "'m'"
      ]
     },
     "execution_count": 43,
     "metadata": {},
     "output_type": "execute_result"
    }
   ],
   "source": [
    "'m'"
   ]
  },
  {
   "cell_type": "code",
   "execution_count": 44,
   "id": "a0cca7fc",
   "metadata": {},
   "outputs": [
    {
     "data": {
      "text/plain": [
       "0"
      ]
     },
     "execution_count": 44,
     "metadata": {},
     "output_type": "execute_result"
    }
   ],
   "source": [
    "0"
   ]
  },
  {
   "cell_type": "code",
   "execution_count": 45,
   "id": "c9bfc09d",
   "metadata": {},
   "outputs": [
    {
     "data": {
      "text/plain": [
       "'m'"
      ]
     },
     "execution_count": 45,
     "metadata": {},
     "output_type": "execute_result"
    }
   ],
   "source": [
    "course[0]"
   ]
  },
  {
   "cell_type": "code",
   "execution_count": 48,
   "id": "8cfb5d3d",
   "metadata": {},
   "outputs": [
    {
     "data": {
      "text/plain": [
       "'meteorology and climate science'"
      ]
     },
     "execution_count": 48,
     "metadata": {},
     "output_type": "execute_result"
    }
   ],
   "source": [
    "course[0:32]"
   ]
  },
  {
   "cell_type": "code",
   "execution_count": 56,
   "id": "55ae8d13",
   "metadata": {},
   "outputs": [
    {
     "data": {
      "text/plain": [
       "'eerlg n lmt cec'"
      ]
     },
     "execution_count": 56,
     "metadata": {},
     "output_type": "execute_result"
    }
   ],
   "source": [
    "course[1::2]"
   ]
  },
  {
   "cell_type": "code",
   "execution_count": 63,
   "id": "9f26b62d",
   "metadata": {},
   "outputs": [
    {
     "data": {
      "text/plain": [
       "'meteorology and climate science'"
      ]
     },
     "execution_count": 63,
     "metadata": {},
     "output_type": "execute_result"
    }
   ],
   "source": [
    "course[:]"
   ]
  },
  {
   "cell_type": "code",
   "execution_count": 64,
   "id": "35eb13ef",
   "metadata": {},
   "outputs": [
    {
     "data": {
      "text/plain": [
       "'meteorology and climate science'"
      ]
     },
     "execution_count": 64,
     "metadata": {},
     "output_type": "execute_result"
    }
   ],
   "source": [
    "course[::]"
   ]
  },
  {
   "cell_type": "code",
   "execution_count": 65,
   "id": "165cb130",
   "metadata": {},
   "outputs": [
    {
     "ename": "SyntaxError",
     "evalue": "invalid syntax (1279398354.py, line 1)",
     "output_type": "error",
     "traceback": [
      "\u001b[1;36m  Input \u001b[1;32mIn [65]\u001b[1;36m\u001b[0m\n\u001b[1;33m    course[:::]\u001b[0m\n\u001b[1;37m             ^\u001b[0m\n\u001b[1;31mSyntaxError\u001b[0m\u001b[1;31m:\u001b[0m invalid syntax\n"
     ]
    }
   ],
   "source": [
    "course[:::]"
   ]
  },
  {
   "cell_type": "markdown",
   "id": "a42b2adc",
   "metadata": {},
   "source": [
    "'concatenation'\n",
    "="
   ]
  },
  {
   "cell_type": "code",
   "execution_count": 72,
   "id": "04c370df",
   "metadata": {},
   "outputs": [
    {
     "name": "stdout",
     "output_type": "stream",
     "text": [
      "meteorology and climate science\n"
     ]
    }
   ],
   "source": [
    "a='meteorology'\n",
    "b=' and'\n",
    "c=' climate'\n",
    "d=' science'\n",
    "print(a+b+c+d)"
   ]
  },
  {
   "cell_type": "code",
   "execution_count": null,
   "id": "e0be685a",
   "metadata": {},
   "outputs": [],
   "source": []
  },
  {
   "cell_type": "code",
   "execution_count": 73,
   "id": "511c4094",
   "metadata": {
    "scrolled": true
   },
   "outputs": [
    {
     "name": "stdout",
     "output_type": "stream",
     "text": [
      "vote for Rhoda 2023vote for Rhoda 2023vote for Rhoda 2023vote for Rhoda 2023vote for Rhoda 2023vote for Rhoda 2023vote for Rhoda 2023vote for Rhoda 2023vote for Rhoda 2023vote for Rhoda 2023vote for Rhoda 2023vote for Rhoda 2023vote for Rhoda 2023vote for Rhoda 2023vote for Rhoda 2023vote for Rhoda 2023vote for Rhoda 2023vote for Rhoda 2023vote for Rhoda 2023vote for Rhoda 2023\n"
     ]
    }
   ],
   "source": [
    "print('vote for Rhoda 2023'*20)"
   ]
  },
  {
   "cell_type": "code",
   "execution_count": 74,
   "id": "6bcc40fc",
   "metadata": {},
   "outputs": [
    {
     "name": "stdout",
     "output_type": "stream",
     "text": [
      "vote for Rhoda 2023 \n",
      "vote for Rhoda 2023 \n",
      "vote for Rhoda 2023 \n",
      "vote for Rhoda 2023 \n",
      "vote for Rhoda 2023 \n",
      "vote for Rhoda 2023 \n",
      "vote for Rhoda 2023 \n",
      "vote for Rhoda 2023 \n",
      "vote for Rhoda 2023 \n",
      "vote for Rhoda 2023 \n",
      "vote for Rhoda 2023 \n",
      "vote for Rhoda 2023 \n",
      "vote for Rhoda 2023 \n",
      "vote for Rhoda 2023 \n",
      "vote for Rhoda 2023 \n",
      "vote for Rhoda 2023 \n",
      "vote for Rhoda 2023 \n",
      "vote for Rhoda 2023 \n",
      "vote for Rhoda 2023 \n",
      "vote for Rhoda 2023 \n",
      "\n"
     ]
    }
   ],
   "source": [
    "print('vote for Rhoda 2023 \\n'*20)"
   ]
  },
  {
   "cell_type": "code",
   "execution_count": 75,
   "id": "2a03fab1",
   "metadata": {},
   "outputs": [
    {
     "data": {
      "text/plain": [
       "'agradaa denied bail'"
      ]
     },
     "execution_count": 75,
     "metadata": {},
     "output_type": "execute_result"
    }
   ],
   "source": [
    "B='AGRADAA DENIED BAIL'\n",
    "B.lower()\n"
   ]
  },
  {
   "cell_type": "code",
   "execution_count": 76,
   "id": "18143c6b",
   "metadata": {},
   "outputs": [
    {
     "data": {
      "text/plain": [
       "'AGRADAA DENIED BAIL'"
      ]
     },
     "execution_count": 76,
     "metadata": {},
     "output_type": "execute_result"
    }
   ],
   "source": [
    "B.upper()"
   ]
  },
  {
   "cell_type": "code",
   "execution_count": 79,
   "id": "c4d39f33",
   "metadata": {},
   "outputs": [
    {
     "data": {
      "text/plain": [
       "'Agradaa denied bail'"
      ]
     },
     "execution_count": 79,
     "metadata": {},
     "output_type": "execute_result"
    }
   ],
   "source": [
    "B.capitalize()"
   ]
  },
  {
   "cell_type": "code",
   "execution_count": 90,
   "id": "b7d1e9d9",
   "metadata": {},
   "outputs": [
    {
     "ename": "AttributeError",
     "evalue": "'str' object has no attribute 'italize'",
     "output_type": "error",
     "traceback": [
      "\u001b[1;31m---------------------------------------------------------------------------\u001b[0m",
      "\u001b[1;31mAttributeError\u001b[0m                            Traceback (most recent call last)",
      "Input \u001b[1;32mIn [90]\u001b[0m, in \u001b[0;36m<cell line: 1>\u001b[1;34m()\u001b[0m\n\u001b[1;32m----> 1\u001b[0m \u001b[43mB\u001b[49m\u001b[38;5;241;43m.\u001b[39;49m\u001b[43mitalize\u001b[49m()\n",
      "\u001b[1;31mAttributeError\u001b[0m: 'str' object has no attribute 'italize'"
     ]
    }
   ],
   "source": [
    "B.italize()"
   ]
  },
  {
   "cell_type": "code",
   "execution_count": 83,
   "id": "a937cd93",
   "metadata": {},
   "outputs": [
    {
     "data": {
      "text/plain": [
       "['AGRADAA', 'DENIED', 'BAIL']"
      ]
     },
     "execution_count": 83,
     "metadata": {},
     "output_type": "execute_result"
    }
   ],
   "source": [
    "B.split()"
   ]
  },
  {
   "cell_type": "code",
   "execution_count": 87,
   "id": "c203f964",
   "metadata": {},
   "outputs": [
    {
     "data": {
      "text/plain": [
       "'HOD DENIED BAIL'"
      ]
     },
     "execution_count": 87,
     "metadata": {},
     "output_type": "execute_result"
    }
   ],
   "source": [
    "B.replace('AGRADAA','HOD')"
   ]
  },
  {
   "cell_type": "code",
   "execution_count": 92,
   "id": "21ad6375",
   "metadata": {},
   "outputs": [],
   "source": [
    "first = 'Welcome to the {year} {prog} organized by {organizers}'.format(year=2022, organizers='oneQuantumGhana', prog ='pythonPrograming')"
   ]
  },
  {
   "cell_type": "code",
   "execution_count": 93,
   "id": "7038e815",
   "metadata": {},
   "outputs": [
    {
     "name": "stdout",
     "output_type": "stream",
     "text": [
      "Welcome to the 2022 pythonPrograming organized by oneQuantumGhana\n"
     ]
    }
   ],
   "source": [
    "print(first)"
   ]
  },
  {
   "cell_type": "code",
   "execution_count": 94,
   "id": "d4a4cb03",
   "metadata": {},
   "outputs": [],
   "source": [
    "SECOND = 'Welcome to the {} {} organized by {}'.format(2022,'pythonPrograming', 'oneQUANTUMGHANA')"
   ]
  },
  {
   "cell_type": "markdown",
   "id": "eec81ce5",
   "metadata": {},
   "source": [
    "BASIC ARITHMETIC\n",
    "= "
   ]
  },
  {
   "cell_type": "code",
   "execution_count": 95,
   "id": "1e87970b",
   "metadata": {},
   "outputs": [
    {
     "data": {
      "text/plain": [
       "3"
      ]
     },
     "execution_count": 95,
     "metadata": {},
     "output_type": "execute_result"
    }
   ],
   "source": [
    "7//2\n",
    "#FLOOR DIVISION\n"
   ]
  },
  {
   "cell_type": "markdown",
   "id": "d7997a93",
   "metadata": {},
   "source": [
    "BOOLEAN\n",
    "= "
   ]
  },
  {
   "cell_type": "code",
   "execution_count": 96,
   "id": "d72ec963",
   "metadata": {},
   "outputs": [
    {
     "data": {
      "text/plain": [
       "False"
      ]
     },
     "execution_count": 96,
     "metadata": {},
     "output_type": "execute_result"
    }
   ],
   "source": [
    "2>7"
   ]
  },
  {
   "cell_type": "code",
   "execution_count": 98,
   "id": "c5a8a29a",
   "metadata": {},
   "outputs": [
    {
     "data": {
      "text/plain": [
       "bool"
      ]
     },
     "execution_count": 98,
     "metadata": {},
     "output_type": "execute_result"
    }
   ],
   "source": [
    "type(11.2==11.22)"
   ]
  },
  {
   "cell_type": "markdown",
   "id": "3050040a",
   "metadata": {},
   "source": [
    "DICTIONARY\n",
    "= "
   ]
  },
  {
   "cell_type": "code",
   "execution_count": 133,
   "id": "1c40f4a8",
   "metadata": {},
   "outputs": [],
   "source": [
    "a= { \n",
    "    'NAME': 'Rhoda',\n",
    "    'Telephone': '0247215767',\n",
    "    'female':'male'}"
   ]
  },
  {
   "cell_type": "code",
   "execution_count": 106,
   "id": "120c989e",
   "metadata": {},
   "outputs": [
    {
     "data": {
      "text/plain": [
       "dict"
      ]
     },
     "execution_count": 106,
     "metadata": {},
     "output_type": "execute_result"
    }
   ],
   "source": [
    "type(a)"
   ]
  },
  {
   "cell_type": "code",
   "execution_count": 107,
   "id": "c96069c2",
   "metadata": {},
   "outputs": [
    {
     "data": {
      "text/plain": [
       "True"
      ]
     },
     "execution_count": 107,
     "metadata": {},
     "output_type": "execute_result"
    }
   ],
   "source": [
    "2<=10"
   ]
  },
  {
   "cell_type": "code",
   "execution_count": 112,
   "id": "91d81cb1",
   "metadata": {},
   "outputs": [
    {
     "data": {
      "text/plain": [
       "False"
      ]
     },
     "execution_count": 112,
     "metadata": {},
     "output_type": "execute_result"
    }
   ],
   "source": [
    "(5<2) & (5>3)"
   ]
  },
  {
   "cell_type": "markdown",
   "id": "aeb0df60",
   "metadata": {},
   "source": [
    "one way decision\n",
    "="
   ]
  },
  {
   "cell_type": "code",
   "execution_count": 113,
   "id": "58d45d97",
   "metadata": {},
   "outputs": [],
   "source": [
    "x=5"
   ]
  },
  {
   "cell_type": "code",
   "execution_count": 114,
   "id": "5765b9bc",
   "metadata": {},
   "outputs": [
    {
     "name": "stdout",
     "output_type": "stream",
     "text": [
      "x equals 5\n"
     ]
    }
   ],
   "source": [
    "if x== 5:\n",
    "    print('x equals 5')"
   ]
  },
  {
   "cell_type": "code",
   "execution_count": 126,
   "id": "b2aebef4",
   "metadata": {},
   "outputs": [
    {
     "name": "stdout",
     "output_type": "stream",
     "text": [
      "x is not equal 4\n"
     ]
    }
   ],
   "source": [
    "if x > 4:\n",
    "    print('x is not equal 4')"
   ]
  },
  {
   "cell_type": "markdown",
   "id": "7cab6396",
   "metadata": {},
   "source": [
    "TWO WAY DECISION\n",
    "= "
   ]
  },
  {
   "cell_type": "code",
   "execution_count": 128,
   "id": "e4c8b5e1",
   "metadata": {},
   "outputs": [
    {
     "name": "stdout",
     "output_type": "stream",
     "text": [
      "ENTER YOUR NAME: RHODA\n",
      "I KNOW YOU NOT\n"
     ]
    }
   ],
   "source": [
    "NAME = input('ENTER YOUR NAME: ')\n",
    "if NAME == 'John':\n",
    "    print('YOU ARE WELCOME',NAME)\n",
    "else:\n",
    "    print('I KNOW YOU NOT')"
   ]
  },
  {
   "cell_type": "code",
   "execution_count": null,
   "id": "a2a013c8",
   "metadata": {},
   "outputs": [],
   "source": [
    "ORDER = input('WELCOME TO PRISCA KITCHEN,PLEASE PLACE YOUR ORDER:')\n",
    "if ORDER == 'JOLLOF':\n",
    "    print('delivery in ten minutes')\n",
    "else:\n",
    "    print('no food oo tom')\n",
    "\n"
   ]
  },
  {
   "cell_type": "code",
   "execution_count": null,
   "id": "80510395",
   "metadata": {},
   "outputs": [],
   "source": [
    "NESTED"
   ]
  },
  {
   "cell_type": "code",
   "execution_count": 154,
   "id": "6f65c45e",
   "metadata": {},
   "outputs": [
    {
     "name": "stdout",
     "output_type": "stream",
     "text": [
      "\tstudent scored passed mark\n",
      "\tstudent passed with A+\n"
     ]
    }
   ],
   "source": [
    "#grade=input(\"ENTER YOUR GRADE\")\n",
    "grade=100\n",
    "if grade > 60:\n",
    "    print(\"\\tstudent scored passed mark\")\n",
    "    if grade > 90:\n",
    "        print(\"\\tstudent passed with A+\")"
   ]
  },
  {
   "cell_type": "code",
   "execution_count": null,
   "id": "4cef6211",
   "metadata": {},
   "outputs": [],
   "source": [
    "grade = int(input(\"ENTER A NUMBER PLS\"))\n",
    "if grade >= 70:\n",
    "    print(\"A\")\n",
    "elif grade <= 69 != grade>=60:\n",
    "    print('B')\n",
    "elif grade <=59 != grade>= 40:\n",
    "    print(\"C\")\n",
    "else:\n",
    "    print (\"WAWHE\")"
   ]
  },
  {
   "cell_type": "code",
   "execution_count": null,
   "id": "b621714b",
   "metadata": {},
   "outputs": [],
   "source": []
  },
  {
   "cell_type": "code",
   "execution_count": null,
   "id": "559400a5",
   "metadata": {},
   "outputs": [],
   "source": []
  }
 ],
 "metadata": {
  "kernelspec": {
   "display_name": "Python 3 (ipykernel)",
   "language": "python",
   "name": "python3"
  },
  "language_info": {
   "codemirror_mode": {
    "name": "ipython",
    "version": 3
   },
   "file_extension": ".py",
   "mimetype": "text/x-python",
   "name": "python",
   "nbconvert_exporter": "python",
   "pygments_lexer": "ipython3",
   "version": "3.9.12"
  }
 },
 "nbformat": 4,
 "nbformat_minor": 5
}
